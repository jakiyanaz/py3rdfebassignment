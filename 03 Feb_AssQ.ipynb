{
 "cells": [
  {
   "cell_type": "markdown",
   "id": "5fd4fbe3-d588-40e0-abc9-2ac9ec58a90e",
   "metadata": {},
   "source": [
    "Q1. Which keyword is used to create a function? Create a function to return a list of odd numbers in the \n",
    "range of 1 to 25."
   ]
  },
  {
   "cell_type": "markdown",
   "id": "9fd6dfea-e53e-4fe0-9e7f-55d41933d81d",
   "metadata": {},
   "source": [
    "Ans: def keyword is used to create a function."
   ]
  },
  {
   "cell_type": "code",
   "execution_count": 6,
   "id": "e812e642-f5c4-4d61-92e2-d5a670097356",
   "metadata": {},
   "outputs": [],
   "source": [
    "def oddnum():\n",
    "    l = []\n",
    "    for num in range(1, 25):\n",
    "        if num % 2 != 0:\n",
    "            l.append(num)\n",
    "    return l"
   ]
  },
  {
   "cell_type": "code",
   "execution_count": 7,
   "id": "b5f8ac85-6c48-4bd1-96ad-7d8a46725be1",
   "metadata": {},
   "outputs": [
    {
     "data": {
      "text/plain": [
       "[1, 3, 5, 7, 9, 11, 13, 15, 17, 19, 21, 23]"
      ]
     },
     "execution_count": 7,
     "metadata": {},
     "output_type": "execute_result"
    }
   ],
   "source": [
    "oddnum()"
   ]
  },
  {
   "cell_type": "markdown",
   "id": "30406a5e-2d1b-454f-a0a2-50ee704c11fc",
   "metadata": {},
   "source": [
    "Q2. Why *args and **kwargs is used in some functions? Create a function each for *args and **kwargs to \n",
    "demonstrate their use."
   ]
  },
  {
   "cell_type": "markdown",
   "id": "920ecaf7-d2cb-4fc8-a392-694d4f049540",
   "metadata": {},
   "source": [
    "Ans: *args are used in a function so that any number of arguments can be given to the function at runtime. **kwargs are used so that any number of varibles and values in function argument can be converted into dictionary."
   ]
  },
  {
   "cell_type": "code",
   "execution_count": 8,
   "id": "f9aa627c-beec-40da-a59a-efe8c0435b3d",
   "metadata": {},
   "outputs": [],
   "source": [
    "def funcargs(*args):\n",
    "    l = []\n",
    "    for i in args:\n",
    "        if type(i) == int:\n",
    "            l.append(i)\n",
    "    return l"
   ]
  },
  {
   "cell_type": "code",
   "execution_count": 9,
   "id": "772e1373-75aa-4eec-b17c-7be02cfdc6d6",
   "metadata": {},
   "outputs": [
    {
     "data": {
      "text/plain": [
       "[1, 2, 5, 4, 3, 7, 8, 4]"
      ]
     },
     "execution_count": 9,
     "metadata": {},
     "output_type": "execute_result"
    }
   ],
   "source": [
    "funcargs(1,2,5,4,3,7,8,4,'5','3')"
   ]
  },
  {
   "cell_type": "code",
   "execution_count": 17,
   "id": "c307dc46-fa00-4663-827a-51f74576a185",
   "metadata": {},
   "outputs": [],
   "source": [
    "def funckwargs(**kwargs):\n",
    "    return kwargs"
   ]
  },
  {
   "cell_type": "code",
   "execution_count": 18,
   "id": "29d81938-5b04-47bd-97d6-656dc8cde289",
   "metadata": {},
   "outputs": [
    {
     "data": {
      "text/plain": [
       "{'a': 4, 'b': 68, 'c': [2, 7, 4, 9, 2]}"
      ]
     },
     "execution_count": 18,
     "metadata": {},
     "output_type": "execute_result"
    }
   ],
   "source": [
    "funckwargs(a=4,b=68,c=[2,7,4,9,2])"
   ]
  },
  {
   "cell_type": "markdown",
   "id": "be138b7e-d973-4c3c-946d-de070a6e89d4",
   "metadata": {},
   "source": [
    "Q3.  What is an iterator in python? Name the method used to initialise the iterator object and the method \n",
    "used for iteration. Use these methods to print the first five elements of the given list [2, 4, 6, 8, 10, 12, 14, 16, \n",
    "18, 20]."
   ]
  },
  {
   "cell_type": "markdown",
   "id": "4765a36e-6804-4cf5-a0ab-cc57ebe3a0c3",
   "metadata": {},
   "source": [
    "Ans: An iterator is an object that can be iterated upon, meaning that you can traverse through all the values. The method used for iteration is iter()"
   ]
  },
  {
   "cell_type": "code",
   "execution_count": 19,
   "id": "6347f00e-2192-4ad5-b7fc-1de23d00b3b5",
   "metadata": {},
   "outputs": [
    {
     "name": "stdout",
     "output_type": "stream",
     "text": [
      "2\n",
      "4\n",
      "6\n",
      "8\n",
      "10\n"
     ]
    }
   ],
   "source": [
    "l = [2, 4, 6, 8, 10, 12, 14, 16, 18, 20]\n",
    "myiter = iter(l)\n",
    "\n",
    "print(next(myiter))\n",
    "print(next(myiter))\n",
    "print(next(myiter))\n",
    "print(next(myiter))\n",
    "print(next(myiter))"
   ]
  },
  {
   "cell_type": "markdown",
   "id": "84be33bc-49ce-4b42-b1e6-71d76678b3c0",
   "metadata": {},
   "source": [
    "Q4. What is a generator function in python? Why yield keyword is used? Give an example of a generator \n",
    "function."
   ]
  },
  {
   "cell_type": "markdown",
   "id": "06dea83b-1de4-4311-8fa3-e0797f2f9a91",
   "metadata": {},
   "source": [
    "Ans: a generator is a function that returns an iterator that produces a sequence of values when iterated over. The yield statement returns a generator object to the one who calls the function which contains yield, instead of simply returning a value."
   ]
  },
  {
   "cell_type": "code",
   "execution_count": 20,
   "id": "c07ff101-2283-4e96-9ef9-09b1d1d463e9",
   "metadata": {},
   "outputs": [
    {
     "name": "stdout",
     "output_type": "stream",
     "text": [
      "1\n",
      "4\n",
      "9\n",
      "16\n",
      "25\n",
      "36\n",
      "49\n",
      "64\n",
      "81\n",
      "100\n"
     ]
    }
   ],
   "source": [
    "for i in range(1,11):\n",
    "    print(i*i)"
   ]
  },
  {
   "cell_type": "markdown",
   "id": "a53e353d-f822-4d98-8cff-2573f789c46e",
   "metadata": {},
   "source": [
    "Q5. Create a generator function for prime numbers less than 1000. Use the next() method to print the \n",
    "first 20 prime numbers."
   ]
  },
  {
   "cell_type": "code",
   "execution_count": 48,
   "id": "68ac719e-444f-4ff0-8333-161092b327ac",
   "metadata": {},
   "outputs": [],
   "source": [
    "l = []\n",
    "myiter = iter(l)\n",
    "def generateprime(a,b):\n",
    "    for num in range(a, b+1):\n",
    "        if num>1:\n",
    "            for i in range(2,num):\n",
    "                if num % i == 0:\n",
    "                    break\n",
    "            else:\n",
    "                l.append(num)\n",
    "    print(next(myiter))\n",
    "    print(next(myiter))\n",
    "    print(next(myiter))\n",
    "    print(next(myiter))\n",
    "    print(next(myiter))\n",
    "    print(next(myiter))\n",
    "    print(next(myiter))\n",
    "    print(next(myiter))\n",
    "    print(next(myiter))\n",
    "    print(next(myiter))\n",
    "    print(next(myiter))\n",
    "    print(next(myiter))\n",
    "    print(next(myiter))\n",
    "    print(next(myiter))\n",
    "    print(next(myiter))\n",
    "    print(next(myiter))\n",
    "    print(next(myiter))\n",
    "    print(next(myiter))\n",
    "    print(next(myiter))\n",
    "    print(next(myiter))"
   ]
  },
  {
   "cell_type": "code",
   "execution_count": 49,
   "id": "c4375ccf-a58e-4141-b3e3-d7c1f4a17599",
   "metadata": {},
   "outputs": [
    {
     "name": "stdout",
     "output_type": "stream",
     "text": [
      "2\n",
      "3\n",
      "5\n",
      "7\n",
      "11\n",
      "13\n",
      "17\n",
      "19\n",
      "23\n",
      "29\n",
      "31\n",
      "37\n",
      "41\n",
      "43\n",
      "47\n",
      "53\n",
      "59\n",
      "61\n",
      "67\n",
      "71\n"
     ]
    }
   ],
   "source": [
    "generateprime(1,1000)"
   ]
  },
  {
   "cell_type": "code",
   "execution_count": null,
   "id": "04d541d0-f248-4769-9910-b5697063c5b8",
   "metadata": {},
   "outputs": [],
   "source": []
  }
 ],
 "metadata": {
  "kernelspec": {
   "display_name": "Python 3 (ipykernel)",
   "language": "python",
   "name": "python3"
  },
  "language_info": {
   "codemirror_mode": {
    "name": "ipython",
    "version": 3
   },
   "file_extension": ".py",
   "mimetype": "text/x-python",
   "name": "python",
   "nbconvert_exporter": "python",
   "pygments_lexer": "ipython3",
   "version": "3.10.8"
  }
 },
 "nbformat": 4,
 "nbformat_minor": 5
}
